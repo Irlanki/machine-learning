{
 "cells": [
  {
   "cell_type": "markdown",
   "metadata": {},
   "source": [
    "- Load /data/creditcard-fraud.csv\n",
    "- How many records are there?\n",
    "- Class is the target variable in the dataset. How many distinct values are there? What is the proportion of each value in the whole dataset. \n",
    "- Divide the data in training and test set. Use top 70% of data in training and rest in testing.\n",
    "- Build a classifier for detection of fraud in credit card transactions. [Use \"Class\" as the target variable, V1 to V28 as features]\n",
    "- Find baseline accuracy [Answer: 0.9915]\n",
    "- View the confusion matrix and find accuracy [0.999], Recall [0.509], Precision [0.797], AUC [0.97], F1 score [0.62], TPR [0.37], FPR [0.20]\n",
    "- Which metrics are independent of threshold value of probability? [Ans: AUC]\n",
    "- As per the model prediction, what will be total value for all records in FN? What is total amount for the records in TN. What is the proportion of sum of amounts in FN by TN [Answer: 8336.05, 7224977.58, 0.1%]\n"
   ]
  },
  {
   "cell_type": "code",
   "execution_count": null,
   "metadata": {},
   "outputs": [],
   "source": []
  }
 ],
 "metadata": {
  "kernelspec": {
   "display_name": "Python 3",
   "language": "python",
   "name": "python3"
  },
  "language_info": {
   "codemirror_mode": {
    "name": "ipython",
    "version": 3
   },
   "file_extension": ".py",
   "mimetype": "text/x-python",
   "name": "python",
   "nbconvert_exporter": "python",
   "pygments_lexer": "ipython3",
   "version": "3.6.8"
  }
 },
 "nbformat": 4,
 "nbformat_minor": 2
}
