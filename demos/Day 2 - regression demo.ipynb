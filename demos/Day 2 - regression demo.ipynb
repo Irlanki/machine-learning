{
 "cells": [
  {
   "cell_type": "code",
   "execution_count": 1,
   "metadata": {},
   "outputs": [],
   "source": [
    "import pandas as pd"
   ]
  },
  {
   "cell_type": "code",
   "execution_count": 2,
   "metadata": {},
   "outputs": [
    {
     "data": {
      "text/html": [
       "<div>\n",
       "<style scoped>\n",
       "    .dataframe tbody tr th:only-of-type {\n",
       "        vertical-align: middle;\n",
       "    }\n",
       "\n",
       "    .dataframe tbody tr th {\n",
       "        vertical-align: top;\n",
       "    }\n",
       "\n",
       "    .dataframe thead th {\n",
       "        text-align: right;\n",
       "    }\n",
       "</style>\n",
       "<table border=\"1\" class=\"dataframe\">\n",
       "  <thead>\n",
       "    <tr style=\"text-align: right;\">\n",
       "      <th></th>\n",
       "      <th>age</th>\n",
       "      <th>gender</th>\n",
       "      <th>bmi</th>\n",
       "      <th>children</th>\n",
       "      <th>smoker</th>\n",
       "      <th>region</th>\n",
       "      <th>charges</th>\n",
       "    </tr>\n",
       "  </thead>\n",
       "  <tbody>\n",
       "    <tr>\n",
       "      <th>0</th>\n",
       "      <td>19</td>\n",
       "      <td>female</td>\n",
       "      <td>27.900</td>\n",
       "      <td>0</td>\n",
       "      <td>yes</td>\n",
       "      <td>southwest</td>\n",
       "      <td>16884.92400</td>\n",
       "    </tr>\n",
       "    <tr>\n",
       "      <th>1</th>\n",
       "      <td>18</td>\n",
       "      <td>male</td>\n",
       "      <td>33.770</td>\n",
       "      <td>1</td>\n",
       "      <td>no</td>\n",
       "      <td>southeast</td>\n",
       "      <td>1725.55230</td>\n",
       "    </tr>\n",
       "    <tr>\n",
       "      <th>2</th>\n",
       "      <td>28</td>\n",
       "      <td>male</td>\n",
       "      <td>33.000</td>\n",
       "      <td>3</td>\n",
       "      <td>no</td>\n",
       "      <td>southeast</td>\n",
       "      <td>4449.46200</td>\n",
       "    </tr>\n",
       "    <tr>\n",
       "      <th>3</th>\n",
       "      <td>33</td>\n",
       "      <td>male</td>\n",
       "      <td>22.705</td>\n",
       "      <td>0</td>\n",
       "      <td>no</td>\n",
       "      <td>northwest</td>\n",
       "      <td>21984.47061</td>\n",
       "    </tr>\n",
       "    <tr>\n",
       "      <th>4</th>\n",
       "      <td>32</td>\n",
       "      <td>male</td>\n",
       "      <td>28.880</td>\n",
       "      <td>0</td>\n",
       "      <td>no</td>\n",
       "      <td>northwest</td>\n",
       "      <td>3866.85520</td>\n",
       "    </tr>\n",
       "  </tbody>\n",
       "</table>\n",
       "</div>"
      ],
      "text/plain": [
       "   age  gender     bmi  children smoker     region      charges\n",
       "0   19  female  27.900         0    yes  southwest  16884.92400\n",
       "1   18    male  33.770         1     no  southeast   1725.55230\n",
       "2   28    male  33.000         3     no  southeast   4449.46200\n",
       "3   33    male  22.705         0     no  northwest  21984.47061\n",
       "4   32    male  28.880         0     no  northwest   3866.85520"
      ]
     },
     "execution_count": 2,
     "metadata": {},
     "output_type": "execute_result"
    }
   ],
   "source": [
    "df = pd.read_csv(\"/data/insurance.csv\")\n",
    "df.head()"
   ]
  },
  {
   "cell_type": "code",
   "execution_count": 3,
   "metadata": {},
   "outputs": [],
   "source": [
    "target = \"charges\""
   ]
  },
  {
   "cell_type": "code",
   "execution_count": 6,
   "metadata": {},
   "outputs": [
    {
     "data": {
      "text/html": [
       "<div>\n",
       "<style scoped>\n",
       "    .dataframe tbody tr th:only-of-type {\n",
       "        vertical-align: middle;\n",
       "    }\n",
       "\n",
       "    .dataframe tbody tr th {\n",
       "        vertical-align: top;\n",
       "    }\n",
       "\n",
       "    .dataframe thead th {\n",
       "        text-align: right;\n",
       "    }\n",
       "</style>\n",
       "<table border=\"1\" class=\"dataframe\">\n",
       "  <thead>\n",
       "    <tr style=\"text-align: right;\">\n",
       "      <th></th>\n",
       "      <th>age</th>\n",
       "      <th>gender</th>\n",
       "      <th>bmi</th>\n",
       "      <th>children</th>\n",
       "      <th>smoker</th>\n",
       "      <th>region</th>\n",
       "    </tr>\n",
       "  </thead>\n",
       "  <tbody>\n",
       "    <tr>\n",
       "      <th>0</th>\n",
       "      <td>19</td>\n",
       "      <td>female</td>\n",
       "      <td>27.900</td>\n",
       "      <td>0</td>\n",
       "      <td>yes</td>\n",
       "      <td>southwest</td>\n",
       "    </tr>\n",
       "    <tr>\n",
       "      <th>1</th>\n",
       "      <td>18</td>\n",
       "      <td>male</td>\n",
       "      <td>33.770</td>\n",
       "      <td>1</td>\n",
       "      <td>no</td>\n",
       "      <td>southeast</td>\n",
       "    </tr>\n",
       "    <tr>\n",
       "      <th>2</th>\n",
       "      <td>28</td>\n",
       "      <td>male</td>\n",
       "      <td>33.000</td>\n",
       "      <td>3</td>\n",
       "      <td>no</td>\n",
       "      <td>southeast</td>\n",
       "    </tr>\n",
       "    <tr>\n",
       "      <th>3</th>\n",
       "      <td>33</td>\n",
       "      <td>male</td>\n",
       "      <td>22.705</td>\n",
       "      <td>0</td>\n",
       "      <td>no</td>\n",
       "      <td>northwest</td>\n",
       "    </tr>\n",
       "    <tr>\n",
       "      <th>4</th>\n",
       "      <td>32</td>\n",
       "      <td>male</td>\n",
       "      <td>28.880</td>\n",
       "      <td>0</td>\n",
       "      <td>no</td>\n",
       "      <td>northwest</td>\n",
       "    </tr>\n",
       "  </tbody>\n",
       "</table>\n",
       "</div>"
      ],
      "text/plain": [
       "   age  gender     bmi  children smoker     region\n",
       "0   19  female  27.900         0    yes  southwest\n",
       "1   18    male  33.770         1     no  southeast\n",
       "2   28    male  33.000         3     no  southeast\n",
       "3   33    male  22.705         0     no  northwest\n",
       "4   32    male  28.880         0     no  northwest"
      ]
     },
     "execution_count": 6,
     "metadata": {},
     "output_type": "execute_result"
    }
   ],
   "source": [
    "y = df[target]\n",
    "X = df.drop(columns=target)\n",
    "X.head()"
   ]
  },
  {
   "cell_type": "code",
   "execution_count": 9,
   "metadata": {},
   "outputs": [
    {
     "data": {
      "text/html": [
       "<div>\n",
       "<style scoped>\n",
       "    .dataframe tbody tr th:only-of-type {\n",
       "        vertical-align: middle;\n",
       "    }\n",
       "\n",
       "    .dataframe tbody tr th {\n",
       "        vertical-align: top;\n",
       "    }\n",
       "\n",
       "    .dataframe thead th {\n",
       "        text-align: right;\n",
       "    }\n",
       "</style>\n",
       "<table border=\"1\" class=\"dataframe\">\n",
       "  <thead>\n",
       "    <tr style=\"text-align: right;\">\n",
       "      <th></th>\n",
       "      <th>age</th>\n",
       "      <th>bmi</th>\n",
       "      <th>children</th>\n",
       "      <th>gender_male</th>\n",
       "      <th>smoker_yes</th>\n",
       "      <th>region_northwest</th>\n",
       "      <th>region_southeast</th>\n",
       "      <th>region_southwest</th>\n",
       "    </tr>\n",
       "  </thead>\n",
       "  <tbody>\n",
       "    <tr>\n",
       "      <th>0</th>\n",
       "      <td>19</td>\n",
       "      <td>27.900</td>\n",
       "      <td>0</td>\n",
       "      <td>0</td>\n",
       "      <td>1</td>\n",
       "      <td>0</td>\n",
       "      <td>0</td>\n",
       "      <td>1</td>\n",
       "    </tr>\n",
       "    <tr>\n",
       "      <th>1</th>\n",
       "      <td>18</td>\n",
       "      <td>33.770</td>\n",
       "      <td>1</td>\n",
       "      <td>1</td>\n",
       "      <td>0</td>\n",
       "      <td>0</td>\n",
       "      <td>1</td>\n",
       "      <td>0</td>\n",
       "    </tr>\n",
       "    <tr>\n",
       "      <th>2</th>\n",
       "      <td>28</td>\n",
       "      <td>33.000</td>\n",
       "      <td>3</td>\n",
       "      <td>1</td>\n",
       "      <td>0</td>\n",
       "      <td>0</td>\n",
       "      <td>1</td>\n",
       "      <td>0</td>\n",
       "    </tr>\n",
       "    <tr>\n",
       "      <th>3</th>\n",
       "      <td>33</td>\n",
       "      <td>22.705</td>\n",
       "      <td>0</td>\n",
       "      <td>1</td>\n",
       "      <td>0</td>\n",
       "      <td>1</td>\n",
       "      <td>0</td>\n",
       "      <td>0</td>\n",
       "    </tr>\n",
       "    <tr>\n",
       "      <th>4</th>\n",
       "      <td>32</td>\n",
       "      <td>28.880</td>\n",
       "      <td>0</td>\n",
       "      <td>1</td>\n",
       "      <td>0</td>\n",
       "      <td>1</td>\n",
       "      <td>0</td>\n",
       "      <td>0</td>\n",
       "    </tr>\n",
       "  </tbody>\n",
       "</table>\n",
       "</div>"
      ],
      "text/plain": [
       "   age     bmi  children  gender_male  smoker_yes  region_northwest  \\\n",
       "0   19  27.900         0            0           1                 0   \n",
       "1   18  33.770         1            1           0                 0   \n",
       "2   28  33.000         3            1           0                 0   \n",
       "3   33  22.705         0            1           0                 1   \n",
       "4   32  28.880         0            1           0                 1   \n",
       "\n",
       "   region_southeast  region_southwest  \n",
       "0                 0                 1  \n",
       "1                 1                 0  \n",
       "2                 1                 0  \n",
       "3                 0                 0  \n",
       "4                 0                 0  "
      ]
     },
     "execution_count": 9,
     "metadata": {},
     "output_type": "execute_result"
    }
   ],
   "source": [
    "X_dummy = pd.get_dummies(X, drop_first=True)\n",
    "X_dummy.head()"
   ]
  },
  {
   "cell_type": "code",
   "execution_count": 64,
   "metadata": {},
   "outputs": [
    {
     "data": {
      "text/plain": [
       "array([[19.  , 27.9 ,  0.  , ...,  0.  ,  0.  ,  1.  ],\n",
       "       [18.  , 33.77,  1.  , ...,  0.  ,  1.  ,  0.  ],\n",
       "       [28.  , 33.  ,  3.  , ...,  0.  ,  1.  ,  0.  ],\n",
       "       ...,\n",
       "       [18.  , 36.85,  0.  , ...,  0.  ,  1.  ,  0.  ],\n",
       "       [21.  , 25.8 ,  0.  , ...,  0.  ,  0.  ,  1.  ],\n",
       "       [61.  , 29.07,  0.  , ...,  1.  ,  0.  ,  0.  ]])"
      ]
     },
     "execution_count": 64,
     "metadata": {},
     "output_type": "execute_result"
    }
   ],
   "source": [
    "X_dummy.values"
   ]
  },
  {
   "cell_type": "code",
   "execution_count": 65,
   "metadata": {},
   "outputs": [
    {
     "data": {
      "text/plain": [
       "numpy.ndarray"
      ]
     },
     "execution_count": 65,
     "metadata": {},
     "output_type": "execute_result"
    }
   ],
   "source": [
    "type(X_dummy.values)"
   ]
  },
  {
   "cell_type": "code",
   "execution_count": 66,
   "metadata": {},
   "outputs": [
    {
     "data": {
      "text/plain": [
       "dtype('float64')"
      ]
     },
     "execution_count": 66,
     "metadata": {},
     "output_type": "execute_result"
    }
   ],
   "source": [
    "X_dummy.values.dtype"
   ]
  },
  {
   "cell_type": "code",
   "execution_count": 69,
   "metadata": {},
   "outputs": [
    {
     "data": {
      "text/plain": [
       "dtype('float16')"
      ]
     },
     "execution_count": 69,
     "metadata": {},
     "output_type": "execute_result"
    }
   ],
   "source": [
    "X_dummy.values.astype(\"float16\").dtype"
   ]
  },
  {
   "cell_type": "code",
   "execution_count": 12,
   "metadata": {},
   "outputs": [],
   "source": [
    "from sklearn import model_selection"
   ]
  },
  {
   "cell_type": "code",
   "execution_count": 63,
   "metadata": {},
   "outputs": [],
   "source": [
    "X_train, X_test, y_train, y_test = model_selection.train_test_split(X_dummy.values, y\n",
    "                                        , test_size = 0.3, random_state = 1)"
   ]
  },
  {
   "cell_type": "code",
   "execution_count": 13,
   "metadata": {},
   "outputs": [],
   "source": [
    "import numpy as np"
   ]
  },
  {
   "cell_type": "code",
   "execution_count": 59,
   "metadata": {},
   "outputs": [
    {
     "data": {
      "text/plain": [
       "array([13,  5,  4, 11, 14])"
      ]
     },
     "execution_count": 59,
     "metadata": {},
     "output_type": "execute_result"
    }
   ],
   "source": [
    "np.random.seed(123)\n",
    "(np.random.random(5) * 20).astype(\"int\")"
   ]
  },
  {
   "cell_type": "code",
   "execution_count": 10,
   "metadata": {},
   "outputs": [],
   "source": [
    "from sklearn import preprocessing"
   ]
  },
  {
   "cell_type": "code",
   "execution_count": 11,
   "metadata": {},
   "outputs": [],
   "source": [
    "scaler = preprocessing.StandardScaler()"
   ]
  },
  {
   "cell_type": "code",
   "execution_count": 109,
   "metadata": {},
   "outputs": [
    {
     "data": {
      "text/plain": [
       "StandardScaler(copy=True, with_mean=True, with_std=True)"
      ]
     },
     "execution_count": 109,
     "metadata": {},
     "output_type": "execute_result"
    }
   ],
   "source": [
    "scaler.fit(X_train) \n",
    "\n",
    "# calcultes x_mean, x_std for each column for calculating z-score.\n",
    "# z = (x - x_mean)/x_std for each column\n",
    "# z values will have 0 mean and 1 std deviation for all columns"
   ]
  },
  {
   "cell_type": "code",
   "execution_count": 73,
   "metadata": {},
   "outputs": [],
   "source": [
    "X_train_std = scaler.transform(X_train) # calculates z scores for each column"
   ]
  },
  {
   "cell_type": "code",
   "execution_count": 76,
   "metadata": {},
   "outputs": [
    {
     "data": {
      "text/html": [
       "<div>\n",
       "<style scoped>\n",
       "    .dataframe tbody tr th:only-of-type {\n",
       "        vertical-align: middle;\n",
       "    }\n",
       "\n",
       "    .dataframe tbody tr th {\n",
       "        vertical-align: top;\n",
       "    }\n",
       "\n",
       "    .dataframe thead th {\n",
       "        text-align: right;\n",
       "    }\n",
       "</style>\n",
       "<table border=\"1\" class=\"dataframe\">\n",
       "  <thead>\n",
       "    <tr style=\"text-align: right;\">\n",
       "      <th></th>\n",
       "      <th>0</th>\n",
       "      <th>1</th>\n",
       "      <th>2</th>\n",
       "      <th>3</th>\n",
       "      <th>4</th>\n",
       "      <th>5</th>\n",
       "      <th>6</th>\n",
       "      <th>7</th>\n",
       "    </tr>\n",
       "  </thead>\n",
       "  <tbody>\n",
       "    <tr>\n",
       "      <th>0</th>\n",
       "      <td>0.797152</td>\n",
       "      <td>-0.702114</td>\n",
       "      <td>-0.904002</td>\n",
       "      <td>0.976766</td>\n",
       "      <td>-0.509664</td>\n",
       "      <td>1.788102</td>\n",
       "      <td>-0.600387</td>\n",
       "      <td>-0.587220</td>\n",
       "    </tr>\n",
       "    <tr>\n",
       "      <th>1</th>\n",
       "      <td>-1.271085</td>\n",
       "      <td>-0.703758</td>\n",
       "      <td>-0.085679</td>\n",
       "      <td>-1.023787</td>\n",
       "      <td>-0.509664</td>\n",
       "      <td>-0.559252</td>\n",
       "      <td>-0.600387</td>\n",
       "      <td>1.702939</td>\n",
       "    </tr>\n",
       "    <tr>\n",
       "      <th>2</th>\n",
       "      <td>-0.985811</td>\n",
       "      <td>-0.733340</td>\n",
       "      <td>-0.904002</td>\n",
       "      <td>0.976766</td>\n",
       "      <td>-0.509664</td>\n",
       "      <td>-0.559252</td>\n",
       "      <td>-0.600387</td>\n",
       "      <td>-0.587220</td>\n",
       "    </tr>\n",
       "    <tr>\n",
       "      <th>3</th>\n",
       "      <td>0.797152</td>\n",
       "      <td>-0.414510</td>\n",
       "      <td>1.550967</td>\n",
       "      <td>-1.023787</td>\n",
       "      <td>-0.509664</td>\n",
       "      <td>-0.559252</td>\n",
       "      <td>1.665591</td>\n",
       "      <td>-0.587220</td>\n",
       "    </tr>\n",
       "    <tr>\n",
       "      <th>4</th>\n",
       "      <td>0.868471</td>\n",
       "      <td>1.482037</td>\n",
       "      <td>-0.085679</td>\n",
       "      <td>0.976766</td>\n",
       "      <td>-0.509664</td>\n",
       "      <td>-0.559252</td>\n",
       "      <td>-0.600387</td>\n",
       "      <td>1.702939</td>\n",
       "    </tr>\n",
       "  </tbody>\n",
       "</table>\n",
       "</div>"
      ],
      "text/plain": [
       "          0         1         2         3         4         5         6  \\\n",
       "0  0.797152 -0.702114 -0.904002  0.976766 -0.509664  1.788102 -0.600387   \n",
       "1 -1.271085 -0.703758 -0.085679 -1.023787 -0.509664 -0.559252 -0.600387   \n",
       "2 -0.985811 -0.733340 -0.904002  0.976766 -0.509664 -0.559252 -0.600387   \n",
       "3  0.797152 -0.414510  1.550967 -1.023787 -0.509664 -0.559252  1.665591   \n",
       "4  0.868471  1.482037 -0.085679  0.976766 -0.509664 -0.559252 -0.600387   \n",
       "\n",
       "          7  \n",
       "0 -0.587220  \n",
       "1  1.702939  \n",
       "2 -0.587220  \n",
       "3 -0.587220  \n",
       "4  1.702939  "
      ]
     },
     "execution_count": 76,
     "metadata": {},
     "output_type": "execute_result"
    }
   ],
   "source": [
    "pd.DataFrame(X_train_std).head()"
   ]
  },
  {
   "cell_type": "code",
   "execution_count": 77,
   "metadata": {},
   "outputs": [
    {
     "data": {
      "text/html": [
       "<div>\n",
       "<style scoped>\n",
       "    .dataframe tbody tr th:only-of-type {\n",
       "        vertical-align: middle;\n",
       "    }\n",
       "\n",
       "    .dataframe tbody tr th {\n",
       "        vertical-align: top;\n",
       "    }\n",
       "\n",
       "    .dataframe thead th {\n",
       "        text-align: right;\n",
       "    }\n",
       "</style>\n",
       "<table border=\"1\" class=\"dataframe\">\n",
       "  <thead>\n",
       "    <tr style=\"text-align: right;\">\n",
       "      <th></th>\n",
       "      <th>0</th>\n",
       "      <th>1</th>\n",
       "      <th>2</th>\n",
       "      <th>3</th>\n",
       "      <th>4</th>\n",
       "      <th>5</th>\n",
       "      <th>6</th>\n",
       "      <th>7</th>\n",
       "    </tr>\n",
       "  </thead>\n",
       "  <tbody>\n",
       "    <tr>\n",
       "      <th>count</th>\n",
       "      <td>9.360000e+02</td>\n",
       "      <td>9.360000e+02</td>\n",
       "      <td>9.360000e+02</td>\n",
       "      <td>9.360000e+02</td>\n",
       "      <td>9.360000e+02</td>\n",
       "      <td>9.360000e+02</td>\n",
       "      <td>9.360000e+02</td>\n",
       "      <td>9.360000e+02</td>\n",
       "    </tr>\n",
       "    <tr>\n",
       "      <th>mean</th>\n",
       "      <td>-9.014631e-17</td>\n",
       "      <td>3.054122e-15</td>\n",
       "      <td>-1.869795e-16</td>\n",
       "      <td>-1.119712e-16</td>\n",
       "      <td>1.775645e-16</td>\n",
       "      <td>1.560955e-16</td>\n",
       "      <td>1.518254e-17</td>\n",
       "      <td>2.436323e-16</td>\n",
       "    </tr>\n",
       "    <tr>\n",
       "      <th>std</th>\n",
       "      <td>1.000535e+00</td>\n",
       "      <td>1.000535e+00</td>\n",
       "      <td>1.000535e+00</td>\n",
       "      <td>1.000535e+00</td>\n",
       "      <td>1.000535e+00</td>\n",
       "      <td>1.000535e+00</td>\n",
       "      <td>1.000535e+00</td>\n",
       "      <td>1.000535e+00</td>\n",
       "    </tr>\n",
       "    <tr>\n",
       "      <th>min</th>\n",
       "      <td>-1.485041e+00</td>\n",
       "      <td>-2.419524e+00</td>\n",
       "      <td>-9.040023e-01</td>\n",
       "      <td>-1.023787e+00</td>\n",
       "      <td>-5.096643e-01</td>\n",
       "      <td>-5.592522e-01</td>\n",
       "      <td>-6.003875e-01</td>\n",
       "      <td>-5.872202e-01</td>\n",
       "    </tr>\n",
       "    <tr>\n",
       "      <th>25%</th>\n",
       "      <td>-9.144925e-01</td>\n",
       "      <td>-7.247116e-01</td>\n",
       "      <td>-9.040023e-01</td>\n",
       "      <td>-1.023787e+00</td>\n",
       "      <td>-5.096643e-01</td>\n",
       "      <td>-5.592522e-01</td>\n",
       "      <td>-6.003875e-01</td>\n",
       "      <td>-5.872202e-01</td>\n",
       "    </tr>\n",
       "    <tr>\n",
       "      <th>50%</th>\n",
       "      <td>-5.867016e-02</td>\n",
       "      <td>-3.076297e-02</td>\n",
       "      <td>-8.567913e-02</td>\n",
       "      <td>9.767656e-01</td>\n",
       "      <td>-5.096643e-01</td>\n",
       "      <td>-5.592522e-01</td>\n",
       "      <td>-6.003875e-01</td>\n",
       "      <td>-5.872202e-01</td>\n",
       "    </tr>\n",
       "    <tr>\n",
       "      <th>75%</th>\n",
       "      <td>8.684707e-01</td>\n",
       "      <td>6.631857e-01</td>\n",
       "      <td>7.326440e-01</td>\n",
       "      <td>9.767656e-01</td>\n",
       "      <td>-5.096643e-01</td>\n",
       "      <td>-5.592522e-01</td>\n",
       "      <td>1.665591e+00</td>\n",
       "      <td>1.702939e+00</td>\n",
       "    </tr>\n",
       "    <tr>\n",
       "      <th>max</th>\n",
       "      <td>1.795612e+00</td>\n",
       "      <td>3.689196e+00</td>\n",
       "      <td>3.187613e+00</td>\n",
       "      <td>9.767656e-01</td>\n",
       "      <td>1.962076e+00</td>\n",
       "      <td>1.788102e+00</td>\n",
       "      <td>1.665591e+00</td>\n",
       "      <td>1.702939e+00</td>\n",
       "    </tr>\n",
       "  </tbody>\n",
       "</table>\n",
       "</div>"
      ],
      "text/plain": [
       "                  0             1             2             3             4  \\\n",
       "count  9.360000e+02  9.360000e+02  9.360000e+02  9.360000e+02  9.360000e+02   \n",
       "mean  -9.014631e-17  3.054122e-15 -1.869795e-16 -1.119712e-16  1.775645e-16   \n",
       "std    1.000535e+00  1.000535e+00  1.000535e+00  1.000535e+00  1.000535e+00   \n",
       "min   -1.485041e+00 -2.419524e+00 -9.040023e-01 -1.023787e+00 -5.096643e-01   \n",
       "25%   -9.144925e-01 -7.247116e-01 -9.040023e-01 -1.023787e+00 -5.096643e-01   \n",
       "50%   -5.867016e-02 -3.076297e-02 -8.567913e-02  9.767656e-01 -5.096643e-01   \n",
       "75%    8.684707e-01  6.631857e-01  7.326440e-01  9.767656e-01 -5.096643e-01   \n",
       "max    1.795612e+00  3.689196e+00  3.187613e+00  9.767656e-01  1.962076e+00   \n",
       "\n",
       "                  5             6             7  \n",
       "count  9.360000e+02  9.360000e+02  9.360000e+02  \n",
       "mean   1.560955e-16  1.518254e-17  2.436323e-16  \n",
       "std    1.000535e+00  1.000535e+00  1.000535e+00  \n",
       "min   -5.592522e-01 -6.003875e-01 -5.872202e-01  \n",
       "25%   -5.592522e-01 -6.003875e-01 -5.872202e-01  \n",
       "50%   -5.592522e-01 -6.003875e-01 -5.872202e-01  \n",
       "75%   -5.592522e-01  1.665591e+00  1.702939e+00  \n",
       "max    1.788102e+00  1.665591e+00  1.702939e+00  "
      ]
     },
     "execution_count": 77,
     "metadata": {},
     "output_type": "execute_result"
    }
   ],
   "source": [
    "pd.DataFrame(X_train_std).describe()"
   ]
  },
  {
   "cell_type": "code",
   "execution_count": 98,
   "metadata": {},
   "outputs": [
    {
     "data": {
      "text/plain": [
       "array([38.82264957, 30.68218483,  1.10470085,  0.51175214,  0.20619658,\n",
       "        0.23824786,  0.26495726,  0.25641026])"
      ]
     },
     "execution_count": 98,
     "metadata": {},
     "output_type": "execute_result"
    }
   ],
   "source": [
    "scaler.mean_"
   ]
  },
  {
   "cell_type": "code",
   "execution_count": 99,
   "metadata": {},
   "outputs": [
    {
     "data": {
      "text/plain": [
       "array([1.96605299e+02, 3.70241105e+01, 1.49331124e+00, 2.49861887e-01,\n",
       "       1.63679551e-01, 1.81485819e-01, 1.94754913e-01, 1.90664037e-01])"
      ]
     },
     "execution_count": 99,
     "metadata": {},
     "output_type": "execute_result"
    }
   ],
   "source": [
    "scaler.var_"
   ]
  },
  {
   "cell_type": "code",
   "execution_count": 100,
   "metadata": {},
   "outputs": [
    {
     "data": {
      "text/html": [
       "<div>\n",
       "<style scoped>\n",
       "    .dataframe tbody tr th:only-of-type {\n",
       "        vertical-align: middle;\n",
       "    }\n",
       "\n",
       "    .dataframe tbody tr th {\n",
       "        vertical-align: top;\n",
       "    }\n",
       "\n",
       "    .dataframe thead th {\n",
       "        text-align: right;\n",
       "    }\n",
       "</style>\n",
       "<table border=\"1\" class=\"dataframe\">\n",
       "  <thead>\n",
       "    <tr style=\"text-align: right;\">\n",
       "      <th></th>\n",
       "      <th>0</th>\n",
       "      <th>1</th>\n",
       "      <th>2</th>\n",
       "      <th>3</th>\n",
       "      <th>4</th>\n",
       "      <th>5</th>\n",
       "      <th>6</th>\n",
       "      <th>7</th>\n",
       "    </tr>\n",
       "  </thead>\n",
       "  <tbody>\n",
       "    <tr>\n",
       "      <th>count</th>\n",
       "      <td>936.000000</td>\n",
       "      <td>936.000000</td>\n",
       "      <td>936.000000</td>\n",
       "      <td>936.000000</td>\n",
       "      <td>936.000000</td>\n",
       "      <td>936.000000</td>\n",
       "      <td>936.000000</td>\n",
       "      <td>936.000000</td>\n",
       "    </tr>\n",
       "    <tr>\n",
       "      <th>mean</th>\n",
       "      <td>38.822650</td>\n",
       "      <td>30.682185</td>\n",
       "      <td>1.104701</td>\n",
       "      <td>0.511752</td>\n",
       "      <td>0.206197</td>\n",
       "      <td>0.238248</td>\n",
       "      <td>0.264957</td>\n",
       "      <td>0.256410</td>\n",
       "    </tr>\n",
       "    <tr>\n",
       "      <th>std</th>\n",
       "      <td>14.029097</td>\n",
       "      <td>6.087997</td>\n",
       "      <td>1.222664</td>\n",
       "      <td>0.500129</td>\n",
       "      <td>0.404790</td>\n",
       "      <td>0.426239</td>\n",
       "      <td>0.441546</td>\n",
       "      <td>0.436884</td>\n",
       "    </tr>\n",
       "    <tr>\n",
       "      <th>min</th>\n",
       "      <td>18.000000</td>\n",
       "      <td>15.960000</td>\n",
       "      <td>0.000000</td>\n",
       "      <td>0.000000</td>\n",
       "      <td>0.000000</td>\n",
       "      <td>0.000000</td>\n",
       "      <td>0.000000</td>\n",
       "      <td>0.000000</td>\n",
       "    </tr>\n",
       "    <tr>\n",
       "      <th>25%</th>\n",
       "      <td>26.000000</td>\n",
       "      <td>26.272500</td>\n",
       "      <td>0.000000</td>\n",
       "      <td>0.000000</td>\n",
       "      <td>0.000000</td>\n",
       "      <td>0.000000</td>\n",
       "      <td>0.000000</td>\n",
       "      <td>0.000000</td>\n",
       "    </tr>\n",
       "    <tr>\n",
       "      <th>50%</th>\n",
       "      <td>38.000000</td>\n",
       "      <td>30.495000</td>\n",
       "      <td>1.000000</td>\n",
       "      <td>1.000000</td>\n",
       "      <td>0.000000</td>\n",
       "      <td>0.000000</td>\n",
       "      <td>0.000000</td>\n",
       "      <td>0.000000</td>\n",
       "    </tr>\n",
       "    <tr>\n",
       "      <th>75%</th>\n",
       "      <td>51.000000</td>\n",
       "      <td>34.717500</td>\n",
       "      <td>2.000000</td>\n",
       "      <td>1.000000</td>\n",
       "      <td>0.000000</td>\n",
       "      <td>0.000000</td>\n",
       "      <td>1.000000</td>\n",
       "      <td>1.000000</td>\n",
       "    </tr>\n",
       "    <tr>\n",
       "      <th>max</th>\n",
       "      <td>64.000000</td>\n",
       "      <td>53.130000</td>\n",
       "      <td>5.000000</td>\n",
       "      <td>1.000000</td>\n",
       "      <td>1.000000</td>\n",
       "      <td>1.000000</td>\n",
       "      <td>1.000000</td>\n",
       "      <td>1.000000</td>\n",
       "    </tr>\n",
       "  </tbody>\n",
       "</table>\n",
       "</div>"
      ],
      "text/plain": [
       "                0           1           2           3           4           5  \\\n",
       "count  936.000000  936.000000  936.000000  936.000000  936.000000  936.000000   \n",
       "mean    38.822650   30.682185    1.104701    0.511752    0.206197    0.238248   \n",
       "std     14.029097    6.087997    1.222664    0.500129    0.404790    0.426239   \n",
       "min     18.000000   15.960000    0.000000    0.000000    0.000000    0.000000   \n",
       "25%     26.000000   26.272500    0.000000    0.000000    0.000000    0.000000   \n",
       "50%     38.000000   30.495000    1.000000    1.000000    0.000000    0.000000   \n",
       "75%     51.000000   34.717500    2.000000    1.000000    0.000000    0.000000   \n",
       "max     64.000000   53.130000    5.000000    1.000000    1.000000    1.000000   \n",
       "\n",
       "                6           7  \n",
       "count  936.000000  936.000000  \n",
       "mean     0.264957    0.256410  \n",
       "std      0.441546    0.436884  \n",
       "min      0.000000    0.000000  \n",
       "25%      0.000000    0.000000  \n",
       "50%      0.000000    0.000000  \n",
       "75%      1.000000    1.000000  \n",
       "max      1.000000    1.000000  "
      ]
     },
     "execution_count": 100,
     "metadata": {},
     "output_type": "execute_result"
    }
   ],
   "source": [
    "pd.DataFrame(X_train).describe()"
   ]
  },
  {
   "cell_type": "code",
   "execution_count": 78,
   "metadata": {},
   "outputs": [],
   "source": [
    "X_test_std = scaler.transform(X_test) # On test data, we reuse \n",
    "#the x_mean and x_std from the training data. "
   ]
  },
  {
   "cell_type": "code",
   "execution_count": 79,
   "metadata": {},
   "outputs": [],
   "source": [
    "from sklearn import linear_model"
   ]
  },
  {
   "cell_type": "code",
   "execution_count": 82,
   "metadata": {},
   "outputs": [
    {
     "data": {
      "text/plain": [
       "LinearRegression(copy_X=True, fit_intercept=True, n_jobs=None,\n",
       "         normalize=False)"
      ]
     },
     "execution_count": 82,
     "metadata": {},
     "output_type": "execute_result"
    }
   ],
   "source": [
    "est = linear_model.LinearRegression()\n",
    "est.fit(X_train_std, y_train)"
   ]
  },
  {
   "cell_type": "code",
   "execution_count": 84,
   "metadata": {},
   "outputs": [],
   "source": [
    "y_train_pred = est.predict(X_train_std)\n",
    "y_test_pred = est.predict(X_test_std)"
   ]
  },
  {
   "cell_type": "code",
   "execution_count": 87,
   "metadata": {},
   "outputs": [
    {
     "data": {
      "text/html": [
       "<div>\n",
       "<style scoped>\n",
       "    .dataframe tbody tr th:only-of-type {\n",
       "        vertical-align: middle;\n",
       "    }\n",
       "\n",
       "    .dataframe tbody tr th {\n",
       "        vertical-align: top;\n",
       "    }\n",
       "\n",
       "    .dataframe thead th {\n",
       "        text-align: right;\n",
       "    }\n",
       "</style>\n",
       "<table border=\"1\" class=\"dataframe\">\n",
       "  <thead>\n",
       "    <tr style=\"text-align: right;\">\n",
       "      <th></th>\n",
       "      <th>actual</th>\n",
       "      <th>prediction</th>\n",
       "      <th>residual</th>\n",
       "    </tr>\n",
       "  </thead>\n",
       "  <tbody>\n",
       "    <tr>\n",
       "      <th>559</th>\n",
       "      <td>1646.4297</td>\n",
       "      <td>4610.315541</td>\n",
       "      <td>-2963.885841</td>\n",
       "    </tr>\n",
       "    <tr>\n",
       "      <th>1087</th>\n",
       "      <td>11353.2276</td>\n",
       "      <td>12887.893880</td>\n",
       "      <td>-1534.666280</td>\n",
       "    </tr>\n",
       "    <tr>\n",
       "      <th>1020</th>\n",
       "      <td>8798.5930</td>\n",
       "      <td>12573.948752</td>\n",
       "      <td>-3775.355752</td>\n",
       "    </tr>\n",
       "    <tr>\n",
       "      <th>460</th>\n",
       "      <td>10381.4787</td>\n",
       "      <td>13197.836626</td>\n",
       "      <td>-2816.357926</td>\n",
       "    </tr>\n",
       "    <tr>\n",
       "      <th>802</th>\n",
       "      <td>2103.0800</td>\n",
       "      <td>629.337182</td>\n",
       "      <td>1473.742818</td>\n",
       "    </tr>\n",
       "  </tbody>\n",
       "</table>\n",
       "</div>"
      ],
      "text/plain": [
       "          actual    prediction     residual\n",
       "559    1646.4297   4610.315541 -2963.885841\n",
       "1087  11353.2276  12887.893880 -1534.666280\n",
       "1020   8798.5930  12573.948752 -3775.355752\n",
       "460   10381.4787  13197.836626 -2816.357926\n",
       "802    2103.0800    629.337182  1473.742818"
      ]
     },
     "execution_count": 87,
     "metadata": {},
     "output_type": "execute_result"
    }
   ],
   "source": [
    "summary = pd.DataFrame({\"actual\": y_test, \"prediction\": y_test_pred})\n",
    "summary[\"residual\"] = summary.actual - summary.prediction\n",
    "summary.head()"
   ]
  },
  {
   "cell_type": "code",
   "execution_count": 88,
   "metadata": {},
   "outputs": [
    {
     "data": {
      "text/plain": [
       "14778105453.509342"
      ]
     },
     "execution_count": 88,
     "metadata": {},
     "output_type": "execute_result"
    }
   ],
   "source": [
    "sse = np.sum(summary.residual ** 2)\n",
    "sse"
   ]
  },
  {
   "cell_type": "code",
   "execution_count": 90,
   "metadata": {},
   "outputs": [
    {
     "data": {
      "text/plain": [
       "36761456.35201327"
      ]
     },
     "execution_count": 90,
     "metadata": {},
     "output_type": "execute_result"
    }
   ],
   "source": [
    "mse = np.mean(summary.residual ** 2)\n",
    "mse"
   ]
  },
  {
   "cell_type": "code",
   "execution_count": 92,
   "metadata": {},
   "outputs": [
    {
     "data": {
      "text/plain": [
       "6063.122656850451"
      ]
     },
     "execution_count": 92,
     "metadata": {},
     "output_type": "execute_result"
    }
   ],
   "source": [
    "rmse = np.sqrt(mse)\n",
    "rmse"
   ]
  },
  {
   "cell_type": "code",
   "execution_count": 95,
   "metadata": {},
   "outputs": [
    {
     "data": {
      "text/plain": [
       "14778105453.509342"
      ]
     },
     "execution_count": 95,
     "metadata": {},
     "output_type": "execute_result"
    }
   ],
   "source": [
    "sse = ((y_test-y_test_pred)**2).sum()\n",
    "sse"
   ]
  },
  {
   "cell_type": "code",
   "execution_count": 94,
   "metadata": {},
   "outputs": [
    {
     "data": {
      "text/plain": [
       "56970102513.23878"
      ]
     },
     "execution_count": 94,
     "metadata": {},
     "output_type": "execute_result"
    }
   ],
   "source": [
    "sst = ((y_test - np.mean(y_test)) ** 2).sum()\n",
    "sst"
   ]
  },
  {
   "cell_type": "code",
   "execution_count": 96,
   "metadata": {},
   "outputs": [
    {
     "data": {
      "text/plain": [
       "0.25940106830727905"
      ]
     },
     "execution_count": 96,
     "metadata": {},
     "output_type": "execute_result"
    }
   ],
   "source": [
    "sse/sst"
   ]
  },
  {
   "cell_type": "code",
   "execution_count": 97,
   "metadata": {},
   "outputs": [
    {
     "data": {
      "text/plain": [
       "0.740598931692721"
      ]
     },
     "execution_count": 97,
     "metadata": {},
     "output_type": "execute_result"
    }
   ],
   "source": [
    "r2 = 1 - sse/sst\n",
    "r2"
   ]
  },
  {
   "cell_type": "code",
   "execution_count": 101,
   "metadata": {},
   "outputs": [],
   "source": [
    "from sklearn import metrics"
   ]
  },
  {
   "cell_type": "code",
   "execution_count": 105,
   "metadata": {},
   "outputs": [
    {
     "name": "stdout",
     "output_type": "stream",
     "text": [
      "r2 score on train 0.7545557492633161\n",
      "r2 score on test 0.7405989316927208\n",
      "rmse on train 6039.6018713245385\n",
      "rmse score on test 6063.122656850453\n"
     ]
    }
   ],
   "source": [
    "print(\"r2 score on train\", metrics.r2_score(y_train, y_train_pred))\n",
    "print(\"r2 score on test\", metrics.r2_score(y_test, y_test_pred))\n",
    "\n",
    "print(\"rmse on train\", np.sqrt(metrics.mean_squared_error(y_train, y_train_pred)))\n",
    "print(\"rmse score on test\", np.sqrt(metrics.mean_squared_error(y_test, y_test_pred)))"
   ]
  },
  {
   "cell_type": "code",
   "execution_count": 108,
   "metadata": {},
   "outputs": [
    {
     "data": {
      "text/html": [
       "<div>\n",
       "<style scoped>\n",
       "    .dataframe tbody tr th:only-of-type {\n",
       "        vertical-align: middle;\n",
       "    }\n",
       "\n",
       "    .dataframe tbody tr th {\n",
       "        vertical-align: top;\n",
       "    }\n",
       "\n",
       "    .dataframe thead th {\n",
       "        text-align: right;\n",
       "    }\n",
       "</style>\n",
       "<table border=\"1\" class=\"dataframe\">\n",
       "  <thead>\n",
       "    <tr style=\"text-align: right;\">\n",
       "      <th></th>\n",
       "      <th>feature</th>\n",
       "      <th>coefficient</th>\n",
       "    </tr>\n",
       "  </thead>\n",
       "  <tbody>\n",
       "    <tr>\n",
       "      <th>0</th>\n",
       "      <td>age</td>\n",
       "      <td>3528.982731</td>\n",
       "    </tr>\n",
       "    <tr>\n",
       "      <th>1</th>\n",
       "      <td>bmi</td>\n",
       "      <td>1961.655208</td>\n",
       "    </tr>\n",
       "    <tr>\n",
       "      <th>2</th>\n",
       "      <td>children</td>\n",
       "      <td>421.550164</td>\n",
       "    </tr>\n",
       "    <tr>\n",
       "      <th>3</th>\n",
       "      <td>gender_male</td>\n",
       "      <td>-141.359110</td>\n",
       "    </tr>\n",
       "    <tr>\n",
       "      <th>4</th>\n",
       "      <td>smoker_yes</td>\n",
       "      <td>9733.786883</td>\n",
       "    </tr>\n",
       "    <tr>\n",
       "      <th>5</th>\n",
       "      <td>region_northwest</td>\n",
       "      <td>-129.545886</td>\n",
       "    </tr>\n",
       "    <tr>\n",
       "      <th>6</th>\n",
       "      <td>region_southeast</td>\n",
       "      <td>-414.541483</td>\n",
       "    </tr>\n",
       "    <tr>\n",
       "      <th>7</th>\n",
       "      <td>region_southwest</td>\n",
       "      <td>-379.095344</td>\n",
       "    </tr>\n",
       "  </tbody>\n",
       "</table>\n",
       "</div>"
      ],
      "text/plain": [
       "            feature  coefficient\n",
       "0               age  3528.982731\n",
       "1               bmi  1961.655208\n",
       "2          children   421.550164\n",
       "3       gender_male  -141.359110\n",
       "4        smoker_yes  9733.786883\n",
       "5  region_northwest  -129.545886\n",
       "6  region_southeast  -414.541483\n",
       "7  region_southwest  -379.095344"
      ]
     },
     "execution_count": 108,
     "metadata": {},
     "output_type": "execute_result"
    }
   ],
   "source": [
    "pd.DataFrame({\"feature\": X_dummy.columns,\"coefficient\": est.coef_})"
   ]
  },
  {
   "cell_type": "code",
   "execution_count": 133,
   "metadata": {},
   "outputs": [
    {
     "name": "stdout",
     "output_type": "stream",
     "text": [
      "r2 score on train 0.8772148909557743\n",
      "r2 score on test -3.4728265223292233e+21\n",
      "rmse on train 0.3223851134917409\n",
      "rmse score on test 54048989963.39527\n"
     ]
    }
   ],
   "source": [
    "from sklearn import *\n",
    "import numpy as np\n",
    "\n",
    "target = \"charges\"\n",
    "\n",
    "y = df[target]\n",
    "y = np.log(y)\n",
    "X = df.drop(columns=target)\n",
    "X[\"high_bmi\"] = np.where(X.bmi > 30, \"Yes\", \"No\")\n",
    "X[\"age_group\"] = np.where(X.age > 60, \"A1\", \"A2\")\n",
    "\n",
    "X_dummy = pd.get_dummies(X, drop_first=True)\n",
    "\n",
    "\n",
    "X_train, X_test, y_train, y_test = model_selection.train_test_split(X_dummy.values, y\n",
    "                                        , test_size = 0.3, random_state = 1)\n",
    "\n",
    "pipe = pipeline.Pipeline([\n",
    "    (\"poly\", preprocessing.PolynomialFeatures(degree=4, include_bias=False)),\n",
    "    (\"scaler\", preprocessing.StandardScaler()),\n",
    "    (\"est\", linear_model.LinearRegression())\n",
    "])\n",
    "\n",
    "pipe.fit(X_train, y_train)\n",
    "\n",
    "y_train_pred = pipe.predict(X_train)\n",
    "y_test_pred = pipe.predict(X_test)\n",
    "\n",
    "print(\"r2 score on train\", metrics.r2_score(y_train, y_train_pred))\n",
    "print(\"r2 score on test\", metrics.r2_score(y_test, y_test_pred))\n",
    "\n",
    "print(\"rmse on train\", np.sqrt(metrics.mean_squared_error(y_train, y_train_pred)))\n",
    "print(\"rmse score on test\", np.sqrt(metrics.mean_squared_error(y_test, y_test_pred)))\n"
   ]
  },
  {
   "cell_type": "code",
   "execution_count": 121,
   "metadata": {},
   "outputs": [
    {
     "data": {
      "text/plain": [
       "array([[ 1,  1,  1],\n",
       "       [-2,  3,  1],\n",
       "       [ 4,  1,  0],\n",
       "       [ 0,  9,  6]])"
      ]
     },
     "execution_count": 121,
     "metadata": {},
     "output_type": "execute_result"
    }
   ],
   "source": [
    "a = np.array([\n",
    "    [1, 1, 1],\n",
    "    [-2, 3, 1],\n",
    "    [4, 1, 0],\n",
    "    [0, 9, 6]\n",
    "])\n",
    "\n",
    "a"
   ]
  },
  {
   "cell_type": "code",
   "execution_count": 130,
   "metadata": {},
   "outputs": [],
   "source": [
    "a = np.random.random((4, 1000))"
   ]
  },
  {
   "cell_type": "code",
   "execution_count": 131,
   "metadata": {},
   "outputs": [
    {
     "data": {
      "text/plain": [
       "(4, 501500)"
      ]
     },
     "execution_count": 131,
     "metadata": {},
     "output_type": "execute_result"
    }
   ],
   "source": [
    "poly = preprocessing.PolynomialFeatures(degree=2, include_bias=False)\n",
    "poly.fit_transform(a).shape"
   ]
  },
  {
   "cell_type": "code",
   "execution_count": 138,
   "metadata": {},
   "outputs": [],
   "source": [
    "est = pipe.steps[-1][-1]"
   ]
  },
  {
   "cell_type": "code",
   "execution_count": 139,
   "metadata": {
    "scrolled": false
   },
   "outputs": [
    {
     "data": {
      "text/plain": [
       "array([ 1.03236011e+12,  3.91268427e+11,  9.59490932e+11, -2.85697787e+11,\n",
       "        9.30102152e+10,  7.42375087e+11,  1.08727946e+11,  3.39632157e+11,\n",
       "       -5.27941281e+11,  6.58238347e+10, -3.29906082e+11, -4.95903762e+11,\n",
       "       -2.57767561e+11, -2.00379265e+11, -1.10574423e+11,  2.97285016e+11,\n",
       "        1.77456883e+11, -9.70475468e+10,  4.50046467e+09, -4.67433633e+11,\n",
       "       -2.04864613e+11, -2.81604953e+11, -1.36425168e+11,  3.24588723e+10,\n",
       "        5.92250701e+10,  5.37520808e+10,  1.58850513e+11,  1.28073837e+10,\n",
       "       -2.93954126e+11, -1.13040253e+11, -1.53130138e+10,  1.47043008e+09,\n",
       "        9.38022179e+10, -1.70759588e+11, -2.34388193e+10, -1.01854713e+10,\n",
       "       -2.89674828e+11,  1.04636838e+11, -8.61124123e+09,  3.99170097e+09,\n",
       "       -3.46940973e+10,  4.03900651e+10, -6.53178456e+10,  8.69746428e+10,\n",
       "       -5.26934479e+09, -3.91866770e+10, -6.82233447e+10,  9.80092183e+09,\n",
       "        1.41377016e+10, -5.68204364e+10, -2.25470444e+11,  2.27027536e+10,\n",
       "       -7.20449182e+10,  8.09035495e+09,  1.28827339e+10, -8.19410250e+10,\n",
       "       -5.76829513e+09, -4.90821445e+10, -3.44374389e+10, -1.16729374e+11,\n",
       "       -8.29200310e+10, -9.25949058e+09,  1.88523374e+11, -1.29674899e+10,\n",
       "        2.46808141e+11, -4.53681420e+10, -4.42283275e+10, -9.98948487e+10,\n",
       "       -4.95262780e+10,  1.21226263e+09, -8.56278168e+09, -8.99862692e+10,\n",
       "        6.58506083e+09, -2.24618285e+10,  1.47932907e+11,  1.11151586e+11,\n",
       "       -2.04188472e+09,  1.41211434e+11, -3.43219407e+10,  3.08770090e+10,\n",
       "       -1.05032108e+10,  2.14303788e+09, -2.05283815e+10,  2.71145861e+11,\n",
       "        8.65920727e+10, -3.97069296e+10, -6.33603627e+09, -7.08638238e+10,\n",
       "        9.52888456e+10, -3.72298325e+10, -1.07722456e+10,  1.20663131e+11,\n",
       "        1.07411482e+11, -9.05011399e+08, -7.52586087e+10,  3.31072163e+10,\n",
       "        2.32834162e+10,  3.68697897e+09, -1.70893420e+10,  1.24268637e+10,\n",
       "        3.81789419e+10, -1.18908199e+10, -2.17044271e+10,  4.22387333e+10,\n",
       "        9.99100896e+09, -1.59571337e+11,  3.99979169e+10,  1.40975729e+10,\n",
       "        6.11525049e+10,  2.76922012e+10,  2.33710184e+10, -6.47742532e+09,\n",
       "        4.56694374e+10, -5.83713611e+10,  6.19028507e+09,  4.31115082e+10,\n",
       "        2.25498890e+10,  6.55338697e+10, -4.00985848e+10, -3.41647898e+11,\n",
       "        1.24221032e+11,  6.68740402e+10,  4.40519964e+10,  1.72388358e+10,\n",
       "        4.55015950e+10, -2.34982465e+10, -7.42731895e+10,  1.43751568e+10,\n",
       "        1.20871741e+11, -4.50479156e+10,  7.72286685e+10, -4.03040273e+10,\n",
       "       -4.71375244e+10,  7.84235888e+10,  4.31299071e+10,  4.36056850e+09,\n",
       "        1.39767604e+11, -4.23016757e+10, -4.33047251e+10, -5.59351252e+10,\n",
       "       -1.29144125e+09,  2.54719075e+10, -8.98915665e+10,  7.14992661e+10,\n",
       "        4.76026947e+09, -6.68823263e+08, -3.83870295e+08, -3.10295634e+10,\n",
       "        5.25628606e+10, -1.66351620e+10, -9.68699794e+10, -1.89990960e+09,\n",
       "       -4.25595459e+08, -1.20298631e+10,  4.13442495e+10,  1.18980658e+08,\n",
       "        5.01500206e+09, -1.46886027e+09, -2.00971532e+10,  1.73128047e+10,\n",
       "        4.28733037e+09, -6.71294753e+10, -5.06668802e+10,  3.39759635e+10,\n",
       "       -1.66559523e+11, -7.22881376e+10,  1.74023805e+10, -2.16068498e+09,\n",
       "        8.95271812e+09,  1.07277541e+10, -2.39783731e+10,  2.19147972e+10,\n",
       "        5.37839912e+10, -2.30530994e+10, -3.65077507e+10, -2.61950001e+10,\n",
       "       -5.04521187e+09,  1.36366765e+09,  6.42591937e+09,  2.12915397e+10,\n",
       "       -2.34046867e+10, -3.47841291e+10,  2.10150244e+10,  1.69073437e+08,\n",
       "        4.60182050e+10,  1.59678988e+10,  8.88353755e+10, -2.76907138e+09,\n",
       "        4.27904370e+09, -2.96296046e+09, -8.96359761e+10, -1.33882713e+11,\n",
       "       -1.07697101e+09,  7.35344180e+09,  1.39883724e+11,  8.43552513e+08,\n",
       "        5.76217849e+09,  4.03919030e+09, -3.57345326e+10,  3.30970473e+10,\n",
       "       -3.32199734e+11,  1.37136818e+11,  1.81177708e+10,  9.96824810e+10,\n",
       "        2.60601163e+10, -4.12697285e+10,  2.84781318e+10, -3.85002816e+10,\n",
       "        2.81086306e+10,  2.03205195e+10, -2.88689127e+10,  2.28123400e+10,\n",
       "       -2.74861755e+10, -2.54323090e+10,  9.64071461e+10, -8.10153280e+08,\n",
       "       -8.87925086e+08,  9.15959110e+09, -1.20874596e+11,  2.91826066e+10,\n",
       "       -3.67568844e+08, -2.84941651e+10, -2.45606288e+10, -4.01858638e+10,\n",
       "       -7.35300157e+09,  3.61703436e+10,  3.00482531e+10, -2.11607228e+10,\n",
       "       -3.49332935e+10, -4.19393429e+10, -6.75454020e+09,  3.79219759e+10,\n",
       "        2.83831285e+10, -2.86383868e+10,  1.03069291e+10, -1.75618018e+09,\n",
       "       -1.12161297e+09, -4.16675646e+08, -9.30811788e+08,  1.62427722e+10,\n",
       "        3.85423842e+10,  5.98711610e+08,  1.57730432e+10, -2.88147395e+10,\n",
       "        2.59675526e+10, -9.96798297e+09, -3.37693643e+10, -3.18721802e+10,\n",
       "        3.32363324e+10,  1.17437004e+10, -1.61068563e+11, -6.83452390e+08,\n",
       "       -1.48483517e+08, -3.38369813e+10, -4.03878546e+10,  2.73125725e+08,\n",
       "        1.43826127e+08, -2.73567484e+08,  1.71826878e+08, -9.50737768e+07,\n",
       "       -4.04358240e+08,  1.12308596e+08, -3.40701364e+10,  3.95412140e+10,\n",
       "       -3.96016309e+10, -3.88813163e+10, -1.38311287e+09, -3.21008951e+10,\n",
       "        1.73776119e+10,  3.15342459e+08,  6.92084284e+08, -2.75557387e+08,\n",
       "       -3.12297414e+10,  5.01035085e+10,  1.63473842e+10, -1.10740860e+11,\n",
       "       -1.94509144e+10,  1.84770691e+09, -1.91925096e+10,  4.26305294e+10,\n",
       "        1.41656034e+09,  1.66462597e+11,  1.62772837e+09,  1.86613554e+09,\n",
       "        2.57416928e+11, -1.88344574e+00,  8.26701355e+00, -1.44006348e+00,\n",
       "        6.30126953e-01, -1.46409607e+00,  9.29168701e-01,  9.41734314e-01,\n",
       "        2.68776131e+00, -2.05294418e+00,  3.80152633e+10, -6.03175354e+00,\n",
       "       -3.41582489e+00,  3.57315063e+00,  3.01236725e+00,  1.95925903e+00,\n",
       "       -9.55520630e-01, -3.29026413e+00,  1.97124481e-02,  3.97139639e+10,\n",
       "       -7.55897522e-01,  6.47247314e-01, -4.49100494e-01,  1.27523804e+00,\n",
       "        1.23062134e-02,  8.09936523e-02,  6.94328308e-01,  9.18534227e+10,\n",
       "       -1.10560758e+11, -7.74841309e-02, -8.83575439e-01, -1.32534790e+00,\n",
       "       -1.10350800e+00, -8.34442139e-01,  1.42579937e+11,  3.30960564e+09,\n",
       "       -3.82001877e-01, -6.75964355e-02, -2.33573914e-02, -5.34605026e-01,\n",
       "       -3.78459725e+09, -4.23255177e+10, -3.16475998e+07, -8.17005028e+05,\n",
       "       -4.96490479e-01,  4.44865021e+10, -5.35629339e+10, -1.03176832e+04,\n",
       "        5.35564423e-01,  1.23899373e+11,  1.93439783e+10,  9.35729980e-01,\n",
       "       -2.25543337e+10, -2.02529439e+10,  3.70011092e+10,  1.54351480e+11,\n",
       "       -2.36910210e+01, -3.22019958e+00,  5.46775818e-01, -1.32906342e+00,\n",
       "        1.12858887e+01,  1.62084351e+01,  6.85442924e+00,  3.19369736e+01,\n",
       "       -1.09712200e+11, -9.44557190e-01,  5.40115356e-01, -1.02098465e+00,\n",
       "       -7.40112305e-01, -6.31954193e-01, -6.01936340e-01,  2.99339294e+00,\n",
       "        1.94926057e+09,  7.84957837e+10, -8.51333618e-01,  1.01910400e+00,\n",
       "        2.55120850e+00,  2.09074402e+00, -3.04664612e+00, -2.06256145e+11,\n",
       "       -1.97084040e+10, -4.81136322e-01,  2.70835876e-01, -1.76025391e-01,\n",
       "        1.06853104e+00,  4.91778393e+10, -2.05783273e+10,  5.91047875e+06,\n",
       "        9.27813938e+06, -5.39236450e+00, -9.60821278e+09, -2.01369229e+10,\n",
       "        1.04433679e+07, -1.13910007e+01,  2.81647573e+10, -1.05541853e+10,\n",
       "       -2.78061676e+00,  7.64923999e+09, -1.89464999e+10,  3.67725520e+10,\n",
       "        2.46746562e+11,  1.56291962e-01, -4.02618408e-01, -1.21246338e-01,\n",
       "       -5.90431213e-01, -4.99015808e-01, -9.10829544e-01, -9.42230225e-02,\n",
       "       -8.37837474e+10, -5.40175487e+10,  1.79939270e-01,  1.39068604e-01,\n",
       "       -3.09341431e-01, -2.31193542e-01, -3.62243652e-02,  9.16475882e+10,\n",
       "       -3.35292806e+10,  1.01680756e-01,  8.38699341e-02, -1.41670227e-01,\n",
       "       -2.20565796e-02,  3.84212580e+10, -5.97400677e+10,  0.00000000e+00,\n",
       "        0.00000000e+00, -1.37176514e-02,  1.25421098e+11,  6.91362022e+10,\n",
       "        0.00000000e+00,  3.69014740e-02, -1.54047462e+11, -2.97962078e+10,\n",
       "       -2.71148682e-01,  6.36695202e+10, -2.11368281e+10,  2.98657944e+10,\n",
       "        1.27903984e+11,  1.37029641e+11,  1.79313507e+10, -7.96448428e+10,\n",
       "        2.30263105e+09,  2.98564902e+10,  3.39697606e+10, -1.23215496e+10,\n",
       "        1.79313507e+10,  2.93998718e-02,  5.02624512e-02, -3.58200073e-02,\n",
       "        7.88879395e-02, -3.21430959e+10, -7.96448428e+10,  0.00000000e+00,\n",
       "        0.00000000e+00, -1.48086548e-01,  2.22180494e+11,  2.30263105e+09,\n",
       "        0.00000000e+00, -4.95925903e-01, -3.46372213e+10,  2.98564902e+10,\n",
       "       -3.77786636e-01, -7.71553616e+10,  3.39697606e+10, -6.59388649e+10,\n",
       "       -1.23215496e+10,  3.26255313e+10,  2.90283415e+10, -1.86100202e+10,\n",
       "       -1.22268371e+10,  3.35196296e+10,  2.46932444e+10,  2.87758762e+10,\n",
       "        0.00000000e+00,  0.00000000e+00,  1.64718628e-01, -8.54560235e+10,\n",
       "       -1.85433542e+10,  0.00000000e+00,  8.13865662e-02,  4.32585033e+10,\n",
       "       -1.22268371e+10,  4.28771973e-03,  4.08782932e+10,  3.35196296e+10,\n",
       "       -9.96671767e+10,  2.46932444e+10, -1.68517121e+11,  0.00000000e+00,\n",
       "        0.00000000e+00,  3.50722732e+10,  4.51674131e+08,  0.00000000e+00,\n",
       "        0.00000000e+00,  0.00000000e+00,  0.00000000e+00,  0.00000000e+00,\n",
       "        0.00000000e+00,  0.00000000e+00,  3.50719542e+10, -1.23199373e+11,\n",
       "        4.51674131e+08,  1.65623568e+10,  0.00000000e+00,  5.73053713e+10,\n",
       "       -7.09629991e+10,  0.00000000e+00,  0.00000000e+00,  0.00000000e+00,\n",
       "        5.73053713e+10, -1.46011557e+11, -7.09629991e+10,  1.52194719e+10,\n",
       "        4.09122082e+10,  2.37252110e+10,  4.09122082e+10, -1.11717534e+11,\n",
       "        2.37252110e+10,  6.11407686e+10, -4.12691294e+10, -4.12691294e+10,\n",
       "       -3.39450453e+11, -4.59170914e+00,  9.45095062e+00,  1.02099304e+01,\n",
       "       -4.77620316e+00,  1.72355499e+01,  2.29069633e+01,  2.12439613e+01,\n",
       "       -3.14462128e+01, -1.30791515e+11,  4.40246582e-01, -4.03393555e+00,\n",
       "        3.43397903e+00,  2.25793457e+00,  2.01336002e+00,  4.65303802e+00,\n",
       "       -5.19480896e+00, -6.59759621e+10,  3.99844173e+10, -3.06842041e+00,\n",
       "       -6.31843567e-01,  8.65285492e+00,  3.82651520e+00, -1.89105072e+01,\n",
       "       -8.29988520e+10,  1.16937531e+10,  2.42927170e+00,  9.11216736e-01,\n",
       "       -2.53133011e+00,  4.80203247e+00, -2.81104818e+10,  2.92661893e+10,\n",
       "        0.00000000e+00,  0.00000000e+00, -1.89075165e+01, -7.31477899e+10,\n",
       "       -1.45052792e+10,  0.00000000e+00, -1.48373795e+01,  3.70218563e+10,\n",
       "       -5.89098087e+10, -2.40467072e+01,  1.27281279e+11, -6.80424401e+09,\n",
       "       -7.54170346e+09,  1.15670721e+11,  3.80421448e+00,  2.80731201e-01,\n",
       "        3.05000305e-01, -5.60432434e-01, -1.52350616e+00,  4.41211700e-01,\n",
       "       -2.10739136e-01,  4.45013165e+10,  8.09949678e+10,  3.45832825e-01,\n",
       "        5.63385010e-01, -2.01339722e-02, -6.00032806e-01,  2.22309494e+00,\n",
       "       -1.56722172e+11, -4.43389383e+10, -3.09944153e-01, -6.39648438e-01,\n",
       "       -1.72700882e-01, -2.65806580e+00,  8.34309388e+10, -2.60832142e+10,\n",
       "        0.00000000e+00,  0.00000000e+00, -1.99396515e+00,  7.20533492e+10,\n",
       "        7.89570768e+10,  0.00000000e+00, -6.86389923e-01, -1.52745208e+11,\n",
       "        4.90954830e+10, -1.37593079e+00, -8.98686261e+10,  7.91954916e+09,\n",
       "       -1.19991627e+10,  1.39248968e+11, -3.74546940e+10, -3.18328983e+10,\n",
       "       -5.61992338e+10, -8.71115825e+09,  2.00831352e+10, -8.62796720e+10,\n",
       "        7.16992013e+10, -3.18328983e+10, -7.08560944e-01,  7.51571655e-02,\n",
       "       -3.31115723e-01,  1.27397537e+00,  1.03648571e+11, -5.63366094e+10,\n",
       "        0.00000000e+00,  0.00000000e+00,  1.35162354e-01,  1.65066653e+11,\n",
       "       -8.23384984e+09,  0.00000000e+00, -4.61745834e+00,  1.76402116e+10,\n",
       "        2.00831352e+10, -2.33925438e+00, -6.35447395e+10, -8.62796720e+10,\n",
       "        2.55439148e+11,  7.16744290e+10, -1.78761839e+08, -1.32357858e+10,\n",
       "        5.64902033e+09, -2.41703213e+10,  4.78200221e+10, -9.61510999e+09,\n",
       "       -1.32357858e+10,  0.00000000e+00,  0.00000000e+00, -4.28436279e-01,\n",
       "        2.59796935e+10,  5.64902033e+09,  0.00000000e+00, -5.77129364e-01,\n",
       "       -1.04588917e+10, -2.41703213e+10,  2.04955292e+00,  7.51983385e+10,\n",
       "        4.78200221e+10, -1.43348302e+11, -9.61510999e+09, -1.01552474e+11,\n",
       "        0.00000000e+00,  0.00000000e+00, -1.20026803e+10,  4.73222459e+10,\n",
       "        0.00000000e+00,  0.00000000e+00,  0.00000000e+00,  0.00000000e+00,\n",
       "        0.00000000e+00,  0.00000000e+00,  0.00000000e+00, -1.20026803e+10,\n",
       "        3.51703700e+10,  4.73222459e+10, -9.61017212e+08,  0.00000000e+00,\n",
       "       -5.59530680e+09, -1.57151027e+10,  0.00000000e+00,  0.00000000e+00,\n",
       "        0.00000000e+00, -5.59530680e+09,  1.22579776e+10, -1.57151027e+10,\n",
       "        1.64273082e+10,  7.91833441e+09, -5.95037247e+10,  7.91833441e+09,\n",
       "       -1.91024526e+10, -5.95037247e+10, -5.22475949e+10,  2.80423093e+10,\n",
       "        2.80423093e+10, -1.63055114e+11,  1.51244354e+00, -2.70416260e-01,\n",
       "        8.17966461e-03, -5.43937683e-01, -1.10632706e+00, -7.68104553e-01,\n",
       "       -4.90203857e-01,  7.18196796e+10,  2.78906268e+09, -8.26644897e-02,\n",
       "       -1.09863281e-01, -9.07592773e-02, -5.14450073e-02,  1.57653809e-01,\n",
       "       -2.00976044e+10, -1.22104451e+08, -3.11431885e-02, -9.93309021e-02,\n",
       "       -4.75769043e-02, -1.75262451e-01,  2.25641632e+09,  5.85839855e+09,\n",
       "        0.00000000e+00,  0.00000000e+00, -3.08609009e-03, -1.45875920e+10,\n",
       "        1.59498791e+10,  0.00000000e+00,  1.55166626e-01, -2.59111208e+10,\n",
       "       -2.35228258e+10, -3.71902466e-01,  4.70420592e+10,  2.40865739e+10,\n",
       "       -4.48922632e+10,  5.83362876e+10, -2.36690238e+10, -3.35145747e+10,\n",
       "       -2.32608535e+10, -6.59738404e+09, -3.72269580e+09,  1.37111823e+10,\n",
       "        2.02758047e+10, -3.35145747e+10, -3.18832397e-02,  6.62231445e-03,\n",
       "        9.54132080e-02,  4.38194275e-02,  1.03269505e+11, -2.32608535e+10,\n",
       "        0.00000000e+00,  0.00000000e+00, -1.54876709e-03,  7.24128590e+10,\n",
       "       -6.59738404e+09,  0.00000000e+00, -7.48748779e-02,  1.81970425e+10,\n",
       "       -2.58924426e+09,  1.97387695e-01,  4.80973263e+09,  1.23629616e+10,\n",
       "       -3.20503582e+10,  2.00933982e+10, -2.37379911e+10, -3.49133260e+10,\n",
       "        2.54398371e+10,  1.13967337e+09,  4.96947959e+10,  1.45251882e+10,\n",
       "       -3.53793541e+10,  0.00000000e+00,  0.00000000e+00,  3.14712524e-03,\n",
       "        1.04737380e+11,  2.54398371e+10,  0.00000000e+00,  1.02046967e-01,\n",
       "       -6.86781442e+10,  1.13908737e+09,  8.37707520e-03, -2.39771524e+09,\n",
       "        4.96889612e+10, -1.43762945e+11,  1.45251882e+10,  9.22785251e+10,\n",
       "        0.00000000e+00,  0.00000000e+00, -4.26950196e+09, -9.06283777e+10,\n",
       "        0.00000000e+00,  0.00000000e+00,  0.00000000e+00,  0.00000000e+00,\n",
       "        0.00000000e+00,  0.00000000e+00,  0.00000000e+00, -4.28672133e+09,\n",
       "        1.11723940e+10, -9.06284067e+10, -1.33416358e+11,  0.00000000e+00,\n",
       "        5.51322691e+09,  1.42893426e+11,  0.00000000e+00,  0.00000000e+00,\n",
       "        0.00000000e+00,  5.51322691e+09, -1.77486059e+10,  1.42893426e+11,\n",
       "        1.40698224e+09,  8.83019660e+09,  8.38418019e+09,  8.83019660e+09,\n",
       "       -2.25944890e+10,  8.38418019e+09, -3.81667654e+10,  2.45302575e+10,\n",
       "        2.45302575e+10, -3.33718517e+11,  1.38930092e+11,  2.16254344e+10,\n",
       "        9.88229686e+10,  2.61101294e+10, -3.83961546e+10,  2.91468438e+10,\n",
       "       -3.61803661e+10,  2.16255937e+10,  1.77257473e+10, -2.93218191e+10,\n",
       "        1.79574754e+10, -2.92376404e+10, -2.45915163e+10,  9.88229696e+10,\n",
       "        0.00000000e+00,  0.00000000e+00,  1.11622753e+10, -1.21798346e+11,\n",
       "        2.61101294e+10,  0.00000000e+00, -3.00209499e+10, -2.36203821e+10,\n",
       "       -3.83961546e+10, -9.28896262e+09,  3.85958424e+10,  2.91468438e+10,\n",
       "       -1.91461828e+10, -3.61803661e+10,  2.16255937e+10,  1.77257473e+10,\n",
       "       -2.93218191e+10,  1.79574754e+10, -2.92376404e+10, -2.45915163e+10,\n",
       "        1.77257473e+10,  0.00000000e+00,  0.00000000e+00,  9.41200256e-02,\n",
       "       -7.15764633e+10, -2.93218191e+10,  0.00000000e+00, -3.36685181e-02,\n",
       "        1.09989852e+11,  1.79574754e+10,  2.49366760e-02, -7.53444005e+10,\n",
       "       -1.36328298e+10,  9.58985401e+10, -2.45915163e+10,  9.88229696e+10,\n",
       "        0.00000000e+00,  0.00000000e+00,  1.11622753e+10, -1.21798346e+11,\n",
       "        0.00000000e+00,  0.00000000e+00,  0.00000000e+00,  0.00000000e+00,\n",
       "        0.00000000e+00,  0.00000000e+00,  0.00000000e+00,  1.11622753e+10,\n",
       "       -4.22327928e+10, -1.21798346e+11,  2.60519297e+10,  0.00000000e+00,\n",
       "       -3.07825610e+10, -2.40111289e+10,  0.00000000e+00,  0.00000000e+00,\n",
       "        0.00000000e+00, -3.00209499e+10,  1.14669247e+11, -2.36203821e+10,\n",
       "       -3.86289718e+10, -8.95692994e+09,  3.85958424e+10, -9.28896262e+09,\n",
       "        3.35183603e+10,  3.86485981e+10,  2.91468438e+10, -1.91461828e+10,\n",
       "       -1.91215737e+10, -3.61342004e+10, -4.07615330e+10, -5.57459659e+09,\n",
       "        3.85916630e+10,  2.67242033e+10, -3.11033276e+10,  9.96385054e+09,\n",
       "       -5.56743301e+09,  0.00000000e+00,  0.00000000e+00,  2.32702947e+08,\n",
       "        1.50000949e+10,  3.85916630e+10,  0.00000000e+00,  1.66356439e+10,\n",
       "       -2.96724198e+10,  2.67243030e+10, -9.37313595e+09, -3.48156155e+10,\n",
       "       -3.11033276e+10,  3.38516462e+10,  9.96385054e+09, -5.57459659e+09,\n",
       "        0.00000000e+00,  0.00000000e+00,  2.32702947e+08,  1.50009461e+10,\n",
       "        0.00000000e+00,  0.00000000e+00,  0.00000000e+00,  0.00000000e+00,\n",
       "        0.00000000e+00,  0.00000000e+00,  0.00000000e+00,  2.32702947e+08,\n",
       "        2.32702947e+08,  1.50009461e+10,  3.85916630e+10,  0.00000000e+00,\n",
       "        1.66356439e+10, -2.96698476e+10,  0.00000000e+00,  0.00000000e+00,\n",
       "        0.00000000e+00,  1.66356439e+10, -6.30659579e+10, -2.96698476e+10,\n",
       "        2.67242033e+10, -9.37313595e+09, -3.48156155e+10, -9.37313595e+09,\n",
       "        3.52303295e+10, -3.48156155e+10, -3.11033276e+10,  3.38516462e+10,\n",
       "        3.38516462e+10,  9.96385054e+09, -1.62111427e+11,  0.00000000e+00,\n",
       "        0.00000000e+00, -3.31782182e+10, -4.06489643e+10,  0.00000000e+00,\n",
       "        0.00000000e+00,  0.00000000e+00,  0.00000000e+00,  0.00000000e+00,\n",
       "        0.00000000e+00,  0.00000000e+00, -3.31782182e+10,  3.85976626e+10,\n",
       "       -4.06489643e+10,  0.00000000e+00,  0.00000000e+00,  0.00000000e+00,\n",
       "        0.00000000e+00,  0.00000000e+00,  0.00000000e+00,  0.00000000e+00,\n",
       "        0.00000000e+00,  0.00000000e+00,  0.00000000e+00,  0.00000000e+00,\n",
       "        0.00000000e+00,  0.00000000e+00,  0.00000000e+00,  0.00000000e+00,\n",
       "        0.00000000e+00, -3.31782182e+10,  3.85976626e+10,  3.85976626e+10,\n",
       "       -4.06489643e+10, -3.91110670e+10,  0.00000000e+00, -3.18510786e+10,\n",
       "        1.68885166e+10,  0.00000000e+00,  0.00000000e+00,  0.00000000e+00,\n",
       "       -3.18510786e+10,  5.03743194e+10,  1.68885166e+10,  0.00000000e+00,\n",
       "        0.00000000e+00,  0.00000000e+00,  0.00000000e+00,  0.00000000e+00,\n",
       "        0.00000000e+00, -3.18510786e+10,  5.03743194e+10,  5.03743194e+10,\n",
       "        1.68885166e+10, -1.10850206e+11, -1.92251156e+10,  1.57182263e+09,\n",
       "       -1.92251156e+10,  4.28746403e+10,  1.57182263e+09, -1.92251156e+10,\n",
       "        4.28746403e+10,  4.28746403e+10,  1.57182263e+09,  1.66403247e+11,\n",
       "        1.62362775e+09,  1.07284060e+10,  3.68626261e+09,  2.58236231e+11])"
      ]
     },
     "execution_count": 139,
     "metadata": {},
     "output_type": "execute_result"
    }
   ],
   "source": [
    "est.coef_"
   ]
  },
  {
   "cell_type": "code",
   "execution_count": null,
   "metadata": {},
   "outputs": [],
   "source": []
  }
 ],
 "metadata": {
  "kernelspec": {
   "display_name": "Python 3",
   "language": "python",
   "name": "python3"
  },
  "language_info": {
   "codemirror_mode": {
    "name": "ipython",
    "version": 3
   },
   "file_extension": ".py",
   "mimetype": "text/x-python",
   "name": "python",
   "nbconvert_exporter": "python",
   "pygments_lexer": "ipython3",
   "version": "3.6.8"
  }
 },
 "nbformat": 4,
 "nbformat_minor": 2
}
